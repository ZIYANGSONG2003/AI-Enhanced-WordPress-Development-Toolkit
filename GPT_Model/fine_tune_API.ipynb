{
 "cells": [
  {
   "cell_type": "code",
   "execution_count": 9,
   "id": "5fd747a9",
   "metadata": {},
   "outputs": [
    {
     "name": "stdout",
     "output_type": "stream",
     "text": [
      "ChatCompletionMessage(content=\"add_action('admin_ajax_review', [&$this, 'handleReview']);\\nadd_action('admin_post_review', [&$this, 'handleReview']);\\ndo_action('mp_review_action');\", role='assistant', function_call=None, tool_calls=None, refusal=None)\n"
     ]
    }
   ],
   "source": [
    "from openai import OpenAI\n",
    "\n",
    "# change your api here\n",
    "client = OpenAI(api_key=\"\")\n",
    "\n",
    "completion = client.chat.completions.create(\n",
    "    model=\"ft:gpt-4o-mini-2024-07-18:personal::9xvsQfii\",\n",
    "    messages=[\n",
    "        {\"role\": \"system\", \"content\": \"You are a WordPress code generator. You provide accurate and well-structured PHP code for WordPress plugins based on user prompts.\"},\n",
    "        {\n",
    "            \"role\": \"user\",\n",
    "            \"content\": \"How can I handle an AJAX request in my WordPress plugin for review dismiss action?\"\n",
    "#             change your prompt here\n",
    "        }\n",
    "    ]\n",
    ")\n",
    "\n",
    "print(completion.choices[0].message)"
   ]
  },
  {
   "cell_type": "code",
   "execution_count": null,
   "id": "ce59f9e1",
   "metadata": {},
   "outputs": [],
   "source": []
  }
 ],
 "metadata": {
  "kernelspec": {
   "display_name": "Python 3 (ipykernel)",
   "language": "python",
   "name": "python3"
  },
  "language_info": {
   "codemirror_mode": {
    "name": "ipython",
    "version": 3
   },
   "file_extension": ".py",
   "mimetype": "text/x-python",
   "name": "python",
   "nbconvert_exporter": "python",
   "pygments_lexer": "ipython3",
   "version": "3.9.13"
  }
 },
 "nbformat": 4,
 "nbformat_minor": 5
}
