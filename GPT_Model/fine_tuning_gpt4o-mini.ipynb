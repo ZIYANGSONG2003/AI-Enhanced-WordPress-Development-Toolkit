{
 "cells": [
  {
   "cell_type": "code",
   "execution_count": 5,
   "id": "e08dede8",
   "metadata": {},
   "outputs": [
    {
     "name": "stdout",
     "output_type": "stream",
     "text": [
      "SyncCursorPage[FineTuningJob](data=[FineTuningJob(id='ftjob-33wO2wBq6bpZjWh0Tqo30XAy', created_at=1724150068, error=Error(code=None, message=None, param=None), fine_tuned_model=None, finished_at=None, hyperparameters=Hyperparameters(n_epochs='auto', batch_size='auto', learning_rate_multiplier='auto'), model='gpt-4o-mini-2024-07-18', object='fine_tuning.job', organization_id='org-BIc7xjFozIGbD4MHtYeEgky8', result_files=[], seed=1888065971, status='validating_files', trained_tokens=None, training_file='file-EatUJkoHBuQuswYImZMnoEUG', validation_file=None, estimated_finish=None, integrations=[], user_provided_suffix=None), FineTuningJob(id='ftjob-7XdkyBzgx32kYUNdkICX9VBi', created_at=1724149994, error=Error(code=None, message=None, param=None), fine_tuned_model=None, finished_at=None, hyperparameters=Hyperparameters(n_epochs=3, batch_size=1, learning_rate_multiplier=1.8), model='gpt-4o-mini-2024-07-18', object='fine_tuning.job', organization_id='org-BIc7xjFozIGbD4MHtYeEgky8', result_files=[], seed=1265002275, status='running', trained_tokens=None, training_file='file-cAZtQj8UfPpUFNDFFDGiTHG5', validation_file=None, estimated_finish=None, integrations=[], user_provided_suffix=None), FineTuningJob(id='ftjob-zPTl3JQgOsPofvalfxtKZjw4', created_at=1724070394, error=Error(code=None, message=None, param=None), fine_tuned_model='ft:gpt-4o-mini-2024-07-18:personal::9xvsQfii', finished_at=1724070857, hyperparameters=Hyperparameters(n_epochs=3, batch_size=1, learning_rate_multiplier=1.8), model='gpt-4o-mini-2024-07-18', object='fine_tuning.job', organization_id='org-BIc7xjFozIGbD4MHtYeEgky8', result_files=['file-BmUxVUWEIT6ZV3hdEwnmoagN'], seed=941441434, status='succeeded', trained_tokens=20793, training_file='file-TV140YIg5OeHMDLHbpbLU5mJ', validation_file=None, estimated_finish=None, integrations=[], user_provided_suffix=None)], object='list', has_more=False)\n",
      "FineTuningJob(id='ftjob-33wO2wBq6bpZjWh0Tqo30XAy', created_at=1724150068, error=Error(code=None, message=None, param=None), fine_tuned_model=None, finished_at=None, hyperparameters=Hyperparameters(n_epochs='auto', batch_size='auto', learning_rate_multiplier='auto'), model='gpt-4o-mini-2024-07-18', object='fine_tuning.job', organization_id='org-BIc7xjFozIGbD4MHtYeEgky8', result_files=[], seed=1888065971, status='validating_files', trained_tokens=None, training_file='file-EatUJkoHBuQuswYImZMnoEUG', validation_file=None, estimated_finish=None, integrations=[], user_provided_suffix=None)\n",
      "SyncCursorPage[FineTuningJobEvent](data=[FineTuningJobEvent(id='ftevent-Qb0kdsq54Ek7q6TjSLXG1Gqa', created_at=1724150068, level='info', message='Validating training file: file-EatUJkoHBuQuswYImZMnoEUG', object='fine_tuning.job.event', data={}, type='message'), FineTuningJobEvent(id='ftevent-evaR5FiMZRqsRv6dbCmLVddS', created_at=1724150068, level='info', message='Created fine-tuning job: ftjob-33wO2wBq6bpZjWh0Tqo30XAy', object='fine_tuning.job.event', data={}, type='message')], object='list', has_more=False)\n"
     ]
    }
   ],
   "source": [
    "from openai import OpenAI\n",
    "import os\n",
    "\n",
    "# Set the API key and model name\n",
    "MODEL = \"gpt-4o-mini\"\n",
    "client = OpenAI(api_key=\"\")\n",
    "\n",
    "# Upload the dataset file for fine-tuning\n",
    "vFile = client.files.create(\n",
    "    file=open(\"fine_tune_data.jsonl\", \"rb\"),\n",
    "    purpose=\"fine-tune\"\n",
    ")\n",
    "\n",
    "# Create the fine-tuning job\n",
    "vJob = client.fine_tuning.jobs.create(\n",
    "    training_file=vFile.id,\n",
    "    model=\"gpt-4o-mini-2024-07-18\"\n",
    ")\n",
    "\n",
    "# List recent fine-tuning jobs\n",
    "print(client.fine_tuning.jobs.list(limit=10))\n",
    "\n",
    "# Retrieve the details of the fine-tuning job\n",
    "print(client.fine_tuning.jobs.retrieve(vJob.id))\n",
    "\n",
    "# List events related to the fine-tuning job\n",
    "print(client.fine_tuning.jobs.list_events(fine_tuning_job_id=vJob.id, limit=10))\n"
   ]
  }
 ],
 "metadata": {
  "kernelspec": {
   "display_name": "Python 3 (ipykernel)",
   "language": "python",
   "name": "python3"
  },
  "language_info": {
   "codemirror_mode": {
    "name": "ipython",
    "version": 3
   },
   "file_extension": ".py",
   "mimetype": "text/x-python",
   "name": "python",
   "nbconvert_exporter": "python",
   "pygments_lexer": "ipython3",
   "version": "3.9.13"
  }
 },
 "nbformat": 4,
 "nbformat_minor": 5
}
