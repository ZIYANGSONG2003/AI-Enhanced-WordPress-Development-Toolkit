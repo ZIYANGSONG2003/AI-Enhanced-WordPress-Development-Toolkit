{
 "cells": [
  {
   "cell_type": "code",
   "execution_count": null,
   "id": "initial_id",
   "metadata": {
    "collapsed": true
   },
   "outputs": [],
   "source": [
    "from openai import OpenAI\n",
    "client = OpenAI()\n",
    "\n",
    "client.files.create(\n",
    "  file=open(\"my_first_shortcode.jsonl\", \"rb\"),\n",
    "  purpose=\"fine-tune\"\n",
    ")\n"
   ]
  },
  {
   "metadata": {},
   "cell_type": "code",
   "outputs": [],
   "execution_count": null,
   "source": [
    "client.fine_tuning.jobs.create(\n",
    "  training_file=\"file-dysdFDzHHm9iB9vay1DNHXWT\", \n",
    "  model=\"davinci-002\"\n",
    ")"
   ],
   "id": "a986250abb2c133a"
  },
  {
   "metadata": {},
   "cell_type": "code",
   "outputs": [],
   "execution_count": null,
   "source": [
    "import openai\n",
    "\n",
    "# Create a completion using the fine-tuned model\n",
    "completion = client.completions.create(\n",
    "    model=\"ft:davinci-002:personal::9xAtSxZU\",\n",
    "    prompt=\"Create an 'Edit Profile' shortcode\",\n",
    "    max_tokens=150\n",
    ")\n",
    "\n",
    "# Print the generated text from the completion\n",
    "print(completion.choices[0].text.strip())"
   ],
   "id": "ab825f96c80b96d"
  }
 ],
 "metadata": {
  "kernelspec": {
   "display_name": "Python 3",
   "language": "python",
   "name": "python3"
  },
  "language_info": {
   "codemirror_mode": {
    "name": "ipython",
    "version": 2
   },
   "file_extension": ".py",
   "mimetype": "text/x-python",
   "name": "python",
   "nbconvert_exporter": "python",
   "pygments_lexer": "ipython2",
   "version": "2.7.6"
  }
 },
 "nbformat": 4,
 "nbformat_minor": 5
}
